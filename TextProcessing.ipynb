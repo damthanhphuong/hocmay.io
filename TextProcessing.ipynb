{
 "cells": [
  {
   "cell_type": "code",
   "execution_count": 94,
   "metadata": {},
   "outputs": [],
   "source": [
    "from lxml import html\n",
    "import requests\n",
    "import nltk\n",
    "from pyvi import ViTokenizer\n",
    "import numpy as np\n",
    "from sklearn.cluster import KMeans\n",
    "from sklearn.metrics import pairwise_distances_argmin_min\n",
    "from gensim.models import KeyedVectors "
   ]
  },
  {
   "cell_type": "code",
   "execution_count": 95,
   "metadata": {},
   "outputs": [],
   "source": [
    "url =\"https://vnexpress.net/tin-tuc/the-gioi/indonesia-tim-thay-cang-dap-va-mot-doan-than-may-bay-roi-xuong-bien-3833096.html\""
   ]
  },
  {
   "cell_type": "code",
   "execution_count": 96,
   "metadata": {},
   "outputs": [],
   "source": [
    "page = requests.get(url)"
   ]
  },
  {
   "cell_type": "code",
   "execution_count": 97,
   "metadata": {},
   "outputs": [],
   "source": [
    "data = page.content.decode('UTF-8')\n",
    "node = html.fromstring(data)"
   ]
  },
  {
   "cell_type": "code",
   "execution_count": 98,
   "metadata": {},
   "outputs": [],
   "source": [
    "buyers = node.xpath('//p[@class=\"Normal\"]/text()')"
   ]
  },
  {
   "cell_type": "code",
   "execution_count": 99,
   "metadata": {},
   "outputs": [
    {
     "data": {
      "text/plain": [
       "['\\nCơ quan Tìm kiếm Cứu hộ Quốc gia Indonesia (Basarnas) hôm qua cho biết đã tìm thấy cụm càng đáp, bánh xe và một đoạn lớn của thân máy bay Boeing 737 MAX 8 bị rơi hồi đầu tuần. Cơ quan này cũng áp dụng chiến thuật mới để tìm kiếm các phần thân phi cơ đang nằm dưới đáy biển, ',\n",
       " 'đưa tin.',\n",
       " '\\nNhà chức trách Indonesia đang tận dụng tàu thăm dò thuộc một công ty dầu khí, do thủy thủ đoàn đã rất quen thuộc với địa hình đáy biển ở nơi máy bay gặp nạn. Tàu lặn không người lái cũng được triển khai liên tục. Điều này có thể giúp nhanh chóng phát hiện những vật thể lạ dưới đáy biển như mảnh xác phi cơ.',\n",
       " '\\nCác thợ lặn của Basarnas, hải quân và cảnh sát Indonesia đang tích cực tìm kiếm những bộ phận máy bay dưới đáy biển. Nhà chức trách Indonesia hôm nay dự kiến điều một tàu lắp cần cẩu tới trục vớt các mảnh xác phi cơ.',\n",
       " '\\nGiám đốc Basarnas Muhammad Syaugi tiết lộ hộp đen được tìm thấy trước đó là thiết bị ghi tham số chuyến bay. Tuy nhiên, họ chưa phát hiện tín hiệu định vị từ thiết bị ghi âm buồng lái, nhiều khả năng đang nằm ở vị trí cách mặt biển khoảng 35 m.',\n",
       " '\\nCác hộp đen sẽ giúp trả lời câu hỏi vì sao một máy bay mới sử dụng được hai tháng lại có thể rơi chỉ 13 phút sau khi cất cánh. Lãnh đạo Ủy ban an toàn giao thông quốc gia Indonesia nhận định phải mất khoảng ba tuần để tải dữ liệu và thêm 6 tháng để phân tích hộp đen.',\n",
       " '\\nChuyến bay JT610 của hãng Lion Air rơi xuống biển sáng 29/10, không lâu sau khi cất cánh từ thủ đô Jakarta, khiến toàn bộ 189 người trên máy bay thiệt mạng. Máy bay gặp nạn là một chiếc Boeing 737 MAX 8 mới được chuyển giao cho Lion Air hồi tháng 8 năm nay.',\n",
       " '\\nĐại diện Lion Air cho biết phi công đã thông báo máy bay gặp vấn đề kỹ thuật sau chuyến bay đêm 28/10, nhưng các kỹ sư đã kiểm tra theo đúng quy trình và chiếc Boeing 737 được đánh giá là đủ điều kiện an toàn khi cất cánh sáng 29/10.']"
      ]
     },
     "execution_count": 99,
     "metadata": {},
     "output_type": "execute_result"
    }
   ],
   "source": [
    "buyers"
   ]
  },
  {
   "cell_type": "code",
   "execution_count": 69,
   "metadata": {},
   "outputs": [],
   "source": [
    "data_string =\"\"\n",
    "for i in range(len(buyers)):\n",
    "    data_string+=buyers[i]"
   ]
  },
  {
   "cell_type": "code",
   "execution_count": 70,
   "metadata": {},
   "outputs": [
    {
     "data": {
      "text/plain": [
       "'\\nCơ quan Tìm kiếm Cứu hộ Quốc gia Indonesia (Basarnas) hôm qua cho biết đã tìm thấy cụm càng đáp, bánh xe và một đoạn lớn của thân máy bay Boeing 737 MAX 8 bị rơi hồi đầu tuần. Cơ quan này cũng áp dụng chiến thuật mới để tìm kiếm các phần thân phi cơ đang nằm dưới đáy biển, đưa tin.\\nNhà chức trách Indonesia đang tận dụng tàu thăm dò thuộc một công ty dầu khí, do thủy thủ đoàn đã rất quen thuộc với địa hình đáy biển ở nơi máy bay gặp nạn. Tàu lặn không người lái cũng được triển khai liên tục. Điều này có thể giúp nhanh chóng phát hiện những vật thể lạ dưới đáy biển như mảnh xác phi cơ.\\nCác thợ lặn của Basarnas, hải quân và cảnh sát Indonesia đang tích cực tìm kiếm những bộ phận máy bay dưới đáy biển. Nhà chức trách Indonesia hôm nay dự kiến điều một tàu lắp cần cẩu tới trục vớt các mảnh xác phi cơ.\\nGiám đốc Basarnas Muhammad Syaugi tiết lộ hộp đen được tìm thấy trước đó là thiết bị ghi tham số chuyến bay. Tuy nhiên, họ chưa phát hiện tín hiệu định vị từ thiết bị ghi âm buồng lái, nhiều khả năng đang nằm ở vị trí cách mặt biển khoảng 35 m.\\nCác hộp đen sẽ giúp trả lời câu hỏi vì sao một máy bay mới sử dụng được hai tháng lại có thể rơi chỉ 13 phút sau khi cất cánh. Lãnh đạo Ủy ban an toàn giao thông quốc gia Indonesia nhận định phải mất khoảng ba tuần để tải dữ liệu và thêm 6 tháng để phân tích hộp đen.\\nChuyến bay JT610 của hãng Lion Air rơi xuống biển sáng 29/10, không lâu sau khi cất cánh từ thủ đô Jakarta, khiến toàn bộ 189 người trên máy bay thiệt mạng. Máy bay gặp nạn là một chiếc Boeing 737 MAX 8 mới được chuyển giao cho Lion Air hồi tháng 8 năm nay.\\nĐại diện Lion Air cho biết phi công đã thông báo máy bay gặp vấn đề kỹ thuật sau chuyến bay đêm 28/10, nhưng các kỹ sư đã kiểm tra theo đúng quy trình và chiếc Boeing 737 được đánh giá là đủ điều kiện an toàn khi cất cánh sáng 29/10.'"
      ]
     },
     "execution_count": 70,
     "metadata": {},
     "output_type": "execute_result"
    }
   ],
   "source": [
    "data_string"
   ]
  },
  {
   "cell_type": "code",
   "execution_count": 100,
   "metadata": {},
   "outputs": [
    {
     "data": {
      "text/plain": [
       "'cơ quan tìm kiếm cứu hộ quốc gia indonesia (basarnas) hôm qua cho biết đã tìm thấy cụm càng đáp, bánh xe và một đoạn lớn của thân máy bay boeing 737 max 8 bị rơi hồi đầu tuần. cơ quan này cũng áp dụng chiến thuật mới để tìm kiếm các phần thân phi cơ đang nằm dưới đáy biển, đưa tin.nhà chức trách indonesia đang tận dụng tàu thăm dò thuộc một công ty dầu khí, do thủy thủ đoàn đã rất quen thuộc với địa hình đáy biển ở nơi máy bay gặp nạn. tàu lặn không người lái cũng được triển khai liên tục. điều này có thể giúp nhanh chóng phát hiện những vật thể lạ dưới đáy biển như mảnh xác phi cơ.các thợ lặn của basarnas, hải quân và cảnh sát indonesia đang tích cực tìm kiếm những bộ phận máy bay dưới đáy biển. nhà chức trách indonesia hôm nay dự kiến điều một tàu lắp cần cẩu tới trục vớt các mảnh xác phi cơ.giám đốc basarnas muhammad syaugi tiết lộ hộp đen được tìm thấy trước đó là thiết bị ghi tham số chuyến bay. tuy nhiên, họ chưa phát hiện tín hiệu định vị từ thiết bị ghi âm buồng lái, nhiều khả năng đang nằm ở vị trí cách mặt biển khoảng 35 m.các hộp đen sẽ giúp trả lời câu hỏi vì sao một máy bay mới sử dụng được hai tháng lại có thể rơi chỉ 13 phút sau khi cất cánh. lãnh đạo ủy ban an toàn giao thông quốc gia indonesia nhận định phải mất khoảng ba tuần để tải dữ liệu và thêm 6 tháng để phân tích hộp đen.chuyến bay jt610 của hãng lion air rơi xuống biển sáng 29/10, không lâu sau khi cất cánh từ thủ đô jakarta, khiến toàn bộ 189 người trên máy bay thiệt mạng. máy bay gặp nạn là một chiếc boeing 737 max 8 mới được chuyển giao cho lion air hồi tháng 8 năm nay.đại diện lion air cho biết phi công đã thông báo máy bay gặp vấn đề kỹ thuật sau chuyến bay đêm 28/10, nhưng các kỹ sư đã kiểm tra theo đúng quy trình và chiếc boeing 737 được đánh giá là đủ điều kiện an toàn khi cất cánh sáng 29/10.'"
      ]
     },
     "execution_count": 100,
     "metadata": {},
     "output_type": "execute_result"
    }
   ],
   "source": [
    "data_string = data_string.lower()\n",
    "data_string = data_string.replace('\\n',\"\")\n",
    "data_string = data_string.strip()\n",
    "data_string"
   ]
  },
  {
   "cell_type": "code",
   "execution_count": 101,
   "metadata": {},
   "outputs": [
    {
     "data": {
      "text/plain": [
       "['cơ quan tìm kiếm cứu hộ quốc gia indonesia (basarnas) hôm qua cho biết đã tìm thấy cụm càng đáp, bánh xe và một đoạn lớn của thân máy bay boeing 737 max 8 bị rơi hồi đầu tuần.',\n",
       " 'cơ quan này cũng áp dụng chiến thuật mới để tìm kiếm các phần thân phi cơ đang nằm dưới đáy biển, đưa tin.nhà chức trách indonesia đang tận dụng tàu thăm dò thuộc một công ty dầu khí, do thủy thủ đoàn đã rất quen thuộc với địa hình đáy biển ở nơi máy bay gặp nạn.',\n",
       " 'tàu lặn không người lái cũng được triển khai liên tục.',\n",
       " 'điều này có thể giúp nhanh chóng phát hiện những vật thể lạ dưới đáy biển như mảnh xác phi cơ.các thợ lặn của basarnas, hải quân và cảnh sát indonesia đang tích cực tìm kiếm những bộ phận máy bay dưới đáy biển.',\n",
       " 'nhà chức trách indonesia hôm nay dự kiến điều một tàu lắp cần cẩu tới trục vớt các mảnh xác phi cơ.giám đốc basarnas muhammad syaugi tiết lộ hộp đen được tìm thấy trước đó là thiết bị ghi tham số chuyến bay.',\n",
       " 'tuy nhiên, họ chưa phát hiện tín hiệu định vị từ thiết bị ghi âm buồng lái, nhiều khả năng đang nằm ở vị trí cách mặt biển khoảng 35 m.các hộp đen sẽ giúp trả lời câu hỏi vì sao một máy bay mới sử dụng được hai tháng lại có thể rơi chỉ 13 phút sau khi cất cánh.',\n",
       " 'lãnh đạo ủy ban an toàn giao thông quốc gia indonesia nhận định phải mất khoảng ba tuần để tải dữ liệu và thêm 6 tháng để phân tích hộp đen.chuyến bay jt610 của hãng lion air rơi xuống biển sáng 29/10, không lâu sau khi cất cánh từ thủ đô jakarta, khiến toàn bộ 189 người trên máy bay thiệt mạng.',\n",
       " 'máy bay gặp nạn là một chiếc boeing 737 max 8 mới được chuyển giao cho lion air hồi tháng 8 năm nay.đại diện lion air cho biết phi công đã thông báo máy bay gặp vấn đề kỹ thuật sau chuyến bay đêm 28/10, nhưng các kỹ sư đã kiểm tra theo đúng quy trình và chiếc boeing 737 được đánh giá là đủ điều kiện an toàn khi cất cánh sáng 29/10.']"
      ]
     },
     "execution_count": 101,
     "metadata": {},
     "output_type": "execute_result"
    }
   ],
   "source": [
    "sentences = nltk.sent_tokenize(data_string)\n",
    "sentences"
   ]
  },
  {
   "cell_type": "code",
   "execution_count": 102,
   "metadata": {},
   "outputs": [],
   "source": [
    "w2v = KeyedVectors.load_word2vec_format(\"vi_txt/vi.vec\")"
   ]
  },
  {
   "cell_type": "code",
   "execution_count": 103,
   "metadata": {},
   "outputs": [
    {
     "name": "stderr",
     "output_type": "stream",
     "text": [
      "C:\\Users\\TYE\\Anaconda3\\lib\\site-packages\\ipykernel_launcher.py:1: DeprecationWarning: Call to deprecated `wv` (Attribute will be removed in 4.0.0, use self instead).\n",
      "  \"\"\"Entry point for launching an IPython kernel.\n",
      "C:\\Users\\TYE\\Anaconda3\\lib\\site-packages\\ipykernel_launcher.py:9: DeprecationWarning: Call to deprecated `wv` (Attribute will be removed in 4.0.0, use self instead).\n",
      "  if __name__ == '__main__':\n"
     ]
    },
    {
     "data": {
      "text/plain": [
       "[array([ 5.39630987e-01,  3.04471300e+00, -4.79527568e+00, -1.38958207e+00,\n",
       "         2.17558600e+00,  1.16677501e+00, -1.88026759e+00, -2.57608982e-01,\n",
       "        -2.44154594e+00,  5.55632298e+00, -4.88880869e-01, -6.19116004e-01,\n",
       "        -6.07304048e-01, -6.43640902e+00, -6.81311301e+00,  3.37716600e+00,\n",
       "        -4.29821500e+00, -3.24947358e+00,  6.17568597e+00, -4.21552099e+00,\n",
       "         1.42312502e-02,  4.01342106e+00,  7.84582959e-01, -1.07912373e-01,\n",
       "        -2.93844659e+00,  2.07515621e+00,  1.63445539e+00,  9.65158923e-01,\n",
       "         1.77336593e+00, -1.46778196e+00, -3.54007297e+00,  5.30094963e-01,\n",
       "         1.02474284e+00,  1.37305958e+00,  2.78254350e+00, -2.97154052e+00,\n",
       "        -3.39838046e+00,  1.44554381e+00, -3.61620888e+00, -4.15787299e+00,\n",
       "         2.13067486e+00, -1.84250706e+00, -3.57863306e+00, -2.16258005e+00,\n",
       "         1.29167312e+00, -1.06631221e+01, -6.93371799e-03, -7.28275000e+00,\n",
       "         9.65801985e-01,  8.78061017e-01, -2.22649707e+00, -5.01375989e+00,\n",
       "         6.96777822e-01, -4.23825904e+00,  8.76095974e-01, -8.05852808e+00,\n",
       "         1.56716599e+00, -3.61052936e-01,  2.05468508e+00, -9.54842195e+00,\n",
       "        -1.31034702e+00,  1.89389803e+00, -3.69695566e+00,  2.97055010e-01,\n",
       "        -2.49250157e+00,  6.64920902e+00, -6.42048199e+00,  5.02270694e+00,\n",
       "        -1.23123606e+00,  3.48664810e+00,  2.22695999e+00, -4.59000106e+00,\n",
       "        -5.55352502e+00,  2.85321833e+00,  1.14020195e+00, -1.81903484e+00,\n",
       "         1.97684188e-01,  2.69108109e+00,  5.10377651e+00,  7.70619546e-01,\n",
       "         1.96638803e+00, -2.86331834e-01, -5.43534261e-02,  3.83969795e+00,\n",
       "        -1.07217369e+00, -1.10957189e+00,  1.37705338e+00,  1.27249709e+00,\n",
       "        -1.34735394e+00, -8.97403001e+00,  7.70159251e+00,  2.08513974e+00,\n",
       "         5.72360802e+00, -1.13539886e+00,  1.28998098e+00,  7.46144598e+00,\n",
       "         2.38437358e+00,  1.21655897e+00, -1.57871679e+00, -7.02268166e+00]),\n",
       " array([ -3.53205186,   5.46706994,  -4.29092158,  -1.04909353,\n",
       "          2.24658186,  -5.33531496,  -2.26487349,  -1.73871008,\n",
       "         -1.60493353,   8.33016951,  -4.72552911,   1.37325195,\n",
       "         -0.10308529,  -6.22991442, -11.13185604,   3.32334652,\n",
       "         -9.36869662,  -7.71169598,  13.12515893,  -3.33929447,\n",
       "         -2.01955269,   5.55786949,  -1.11544831,  -1.21840734,\n",
       "         -6.45291208,   2.09010187,   4.08562274,  -2.28189309,\n",
       "          1.92805242,   0.66186974,  -8.10144957,   2.2885781 ,\n",
       "         -1.98497733,  -1.36093809,   7.80561705,  -3.92631203,\n",
       "         -8.09658423,  -1.04043938,  -5.38602084,  -2.20895898,\n",
       "          5.31102151,  -2.69230119,  -4.82935544,  -3.07429005,\n",
       "          0.60884477, -13.58470408,   1.5889687 , -13.704842  ,\n",
       "         -2.32340704,   3.424346  ,  -0.28411566,  -6.44377703,\n",
       "          6.0950936 ,  -3.14146911,   1.24389999, -12.32989288,\n",
       "          4.90354985,  -3.4124829 ,   4.45635615, -16.14410787,\n",
       "         -3.18904477,   4.26508406,  -3.66375539,  -1.52662306,\n",
       "         -2.74131605,  10.09131163,  -7.66132429,   6.67244507,\n",
       "         -0.76540841,   1.60918685,   3.35886175, -10.30379354,\n",
       "         -6.45111329,   8.3382874 ,   4.46267827,  -5.10865789,\n",
       "          5.34886765,   6.83824099,   3.92384269,   4.90294393,\n",
       "          5.05745328,  -2.5654809 ,  -2.09324095,   4.14712569,\n",
       "         -0.50918226,  -3.40415504,  -1.24229961,   2.07074185,\n",
       "         -4.11331361, -10.94339898,  12.11205225,   2.04875523,\n",
       "          3.7501719 ,  -3.354985  ,   4.78272604,  14.99247854,\n",
       "         -5.72886106,   3.36154523,  -0.61673971, -12.18044996]),\n",
       " array([ 0.18006301,  0.9188111 , -1.44648   ,  0.02122442,  0.98202322,\n",
       "         0.73725579, -0.74337799,  0.01808062, -1.07503396,  1.992792  ,\n",
       "        -1.50476696, -1.02588661, -0.348061  , -0.2302867 , -2.08810449,\n",
       "         0.85642398, -2.96595798, -0.74927252,  1.49824302, -0.75106437,\n",
       "         0.36683298,  1.76656994,  0.31223799, -0.55599796, -1.71017699,\n",
       "         0.84370502, -0.53370145,  0.79888805,  0.59597951, -0.64234556,\n",
       "        -1.71236599,  0.11165881, -0.5905264 , -0.95016229,  1.45682998,\n",
       "        -0.66726799, -0.657239  ,  0.45451298, -1.59196332, -1.39128598,\n",
       "         0.980584  ,  0.68711461, -1.69150299, -0.10463839,  0.23373801,\n",
       "        -2.78035997, -0.21208203, -3.59920152, -0.91166101,  1.40318211,\n",
       "        -1.38313001, -2.67450336,  0.74151657, -2.44224597,  1.87484097,\n",
       "        -3.15660997,  1.763894  , -0.76855163,  2.28804598, -3.83653598,\n",
       "        -1.50231801,  0.62579713, -0.58421301, -0.560622  , -0.72948299,\n",
       "         2.01481104, -2.66684899,  1.19557002,  0.41049521,  0.35830704,\n",
       "         0.90305096, -1.708882  , -0.70786698,  1.67651099,  1.2840785 ,\n",
       "        -0.385414  ,  0.15883699,  2.02667504,  1.049607  , -0.0434157 ,\n",
       "         0.40821503, -0.52380601,  0.32342502,  0.531113  , -0.69768399,\n",
       "         0.30010598,  0.63779799,  1.032036  ,  0.3367028 , -2.67662998,\n",
       "         2.15525103,  1.21694051, -0.30854799, -0.86805254,  0.58623301,\n",
       "         2.89873401, -1.10775103, -1.10248996, -0.95135998, -2.68153304]),\n",
       " array([ -1.10838896,   3.49137983,  -5.38524342,   1.74927305,\n",
       "         -0.29095801,  -3.15584808,  -2.62734158,  -0.82825698,\n",
       "         -1.71706695,   7.42715591,  -3.20439387,  -0.82281598,\n",
       "         -1.46713604,  -5.64187964,  -9.96044349,   3.47244568,\n",
       "         -7.715765  ,  -5.50279229,   6.98681165,  -2.29940145,\n",
       "          0.90309877,   4.29640387,  -2.0411488 ,  -1.3761379 ,\n",
       "         -4.12735637,  -0.45439392,   2.05007051,   2.08840998,\n",
       "         -0.57993977,  -3.47974123,  -4.83732598,   2.69139398,\n",
       "         -0.71792001,  -0.69201418,   4.74954898,  -6.69897497,\n",
       "         -6.25044223,   0.50301395,  -2.28350487,  -3.72196097,\n",
       "          3.8257717 ,  -3.03657805,  -4.52554198,  -1.12186698,\n",
       "          2.12904072,  -7.191685  ,   2.08821938, -12.37491803,\n",
       "         -0.45902973,   4.08136999,   0.02280099,  -8.97848731,\n",
       "          1.100063  ,  -6.73204006,   0.89233689,  -9.48609195,\n",
       "          6.09964145,  -3.20412996,   4.986837  , -11.50088097,\n",
       "         -6.01919203,   2.02612843,  -3.19816398,  -3.19282302,\n",
       "         -1.37615919,   7.49436535,  -6.43082994,   5.14100901,\n",
       "         -1.91960511,   3.29196244,   1.44392944,  -6.57186298,\n",
       "         -6.67948397,   4.87025304,   2.32548862,  -0.6716531 ,\n",
       "          1.05789963,   5.49883418,   2.90203415,   2.56859439,\n",
       "          2.81716802,  -3.28920982,  -0.83439404,   2.11154909,\n",
       "         -0.34063104,  -2.59901203,   2.21394593,   1.65628895,\n",
       "         -2.6433364 ,  -8.27689209,   7.34465067,   1.15650783,\n",
       "          2.53389503,  -4.62698737,   3.32325799,  14.12388396,\n",
       "         -4.23702036,   1.56475099,   0.66615825,  -7.48186172]),\n",
       " array([ -0.11337716,   2.30595989,  -3.69637998,  -2.13760101,\n",
       "          1.6630928 ,   3.11623159,  -1.64152398,  -0.99239941,\n",
       "         -1.35168974,   6.81268405,  -2.51851603,  -0.2362414 ,\n",
       "         -2.22430902,  -4.09675095,  -9.22379496,   2.70240405,\n",
       "         -5.09722603,  -2.92495801,   8.08099201,  -2.90259479,\n",
       "         -1.61729299,   5.65529819,  -1.5574978 ,   0.14318689,\n",
       "         -3.45120603,   4.61085103,   1.1298787 ,   2.67730998,\n",
       "          2.3960155 ,  -1.86266758,  -2.79279762,   1.96064279,\n",
       "          2.76367759,  -0.4543345 ,   3.56459195,  -4.19103398,\n",
       "         -3.26990196,   1.98102798,  -4.86459897,  -3.519289  ,\n",
       "          2.06134528,  -1.62395034,  -4.05346895,  -1.79699199,\n",
       "          0.02972868,  -7.40714999,  -1.14501497,  -8.30032797,\n",
       "          2.12455505,   4.781712  ,  -3.04827184,  -6.46734637,\n",
       "          2.19102004,  -2.78464783,   3.62796292,  -8.00629099,\n",
       "          1.35430198,  -0.43601619,   6.19351297, -11.45703895,\n",
       "         -1.248856  ,   0.68238096,  -3.00392083,  -1.46955296,\n",
       "         -4.64648497,   6.03070337,  -7.01796203,   4.27813298,\n",
       "         -1.5698245 ,   3.34146659,   2.01780796,  -4.60822612,\n",
       "         -6.90547998,   4.25666751,   0.38566497,  -3.00965433,\n",
       "          1.44668792,   2.62097824,   5.46727716,   0.5300146 ,\n",
       "          1.98838209,  -0.40740486,   0.29353999,   0.69352383,\n",
       "         -0.07730277,  -1.152605  ,   2.46905395,   0.46171101,\n",
       "         -0.44761218,  -6.48188997,  10.62966993,   0.69137033,\n",
       "          2.62301592,   1.00133251,   0.93987605,   8.80780753,\n",
       "         -1.83655533,  -0.14850903,  -3.23831501,  -5.68447402]),\n",
       " array([ 2.97402004e-01,  4.85395702e+00, -5.24598269e+00,  9.33579030e-03,\n",
       "         1.59217315e+00,  2.43842899e+00, -1.59648250e+00, -2.96153346e+00,\n",
       "        -1.75294285e+00,  6.59191101e+00, -5.23964408e+00,  2.09706619e-01,\n",
       "         1.18020936e+00, -8.58335395e+00, -9.54162302e+00,  1.17694322e+00,\n",
       "        -3.12253687e+00, -4.79672216e+00,  8.56381970e+00, -3.59996537e+00,\n",
       "         3.87815424e-01,  7.27066702e+00, -3.07441874e+00, -8.81559954e-01,\n",
       "        -3.08413250e+00,  3.89470438e+00,  1.63995655e+00,  4.74756265e+00,\n",
       "         5.24179740e+00, -1.27555080e+00, -1.42858483e+00,  1.17405698e+00,\n",
       "        -3.47873207e-01, -1.04506299e+00,  2.99536097e+00, -4.90793103e+00,\n",
       "        -4.51838990e+00,  1.65264025e-01, -3.66102201e+00, -4.12483629e+00,\n",
       "         4.68483393e+00, -6.01757328e-01, -6.26568494e+00, -3.24924401e+00,\n",
       "         1.63136400e+00, -9.35744908e+00,  3.07584650e+00, -1.19107607e+01,\n",
       "        -1.22650132e-01,  4.17503997e+00, -1.54426664e+00, -7.44050854e+00,\n",
       "         3.63542764e+00, -5.75563907e+00,  3.88561201e+00, -1.28549230e+01,\n",
       "         5.07663870e-02,  2.20726436e+00,  7.90839901e+00, -1.51659089e+01,\n",
       "        -1.67938674e+00,  1.39888496e+00, -1.72318460e+00, -1.56136595e+00,\n",
       "        -6.15665913e+00,  6.00224320e+00, -1.00518180e+01,  7.92124894e+00,\n",
       "        -2.22967152e-01,  4.14312698e+00,  1.07800648e+00, -8.12302545e+00,\n",
       "        -6.24955036e+00,  8.57391348e+00,  2.68536836e+00, -2.58112797e+00,\n",
       "         1.73361113e+00,  4.02553715e+00,  6.79747696e+00,  5.42688100e+00,\n",
       "         7.38472202e+00,  1.58193285e+00, -8.09670208e-01,  3.14466910e+00,\n",
       "        -3.89605809e+00,  1.34282616e+00,  4.17259927e-02, -7.60190150e-01,\n",
       "         2.77065154e+00, -9.19686524e+00,  1.16017454e+01,  3.12138775e+00,\n",
       "         2.00930701e+00, -2.26876594e+00,  1.00845480e+00,  1.11097978e+01,\n",
       "        -3.80835037e-01, -3.48052699e+00, -7.16222614e+00, -1.07177206e+01]),\n",
       " array([  0.07699259,   4.98881793,  -3.70469752,  -1.69439022,\n",
       "          2.0985542 ,  -0.49178418,  -1.3834725 ,   1.2546652 ,\n",
       "         -4.34104799,   8.906319  ,  -3.68781897,   3.86983896,\n",
       "         -2.63623199,  -3.57053146,  -9.69257202,   4.89630217,\n",
       "         -6.74985468,  -5.611604  ,  14.0042747 ,  -4.34926901,\n",
       "         -3.43239061,   5.80866468,  -3.34485841,  -0.54063039,\n",
       "         -8.56280228,   2.15168317,   3.659448  ,   3.33391319,\n",
       "          2.62437481,   0.10173636,  -5.53357068,  -1.63566308,\n",
       "          1.15801604,   1.6869029 ,   3.40819357,  -3.85422131,\n",
       "         -8.22303295,   0.55273092,  -5.84801377,  -8.38883803,\n",
       "          4.04241481,   0.42827777,  -6.36866646,  -5.27919667,\n",
       "         -0.64555636, -16.47913214,   0.9493705 , -10.95001002,\n",
       "          0.66007709,   5.36924025,  -4.78065527,  -5.15763844,\n",
       "          4.87911756,  -5.37053987,   6.48753591, -12.02855257,\n",
       "          2.44802188,   3.92989803,   8.97390162, -14.97177698,\n",
       "         -1.36611502,   4.4286191 ,  -2.7068566 ,  -3.42820808,\n",
       "         -4.41798716,  11.37374436, -13.04428677,   7.14233701,\n",
       "          1.66618592,   4.78102301,   7.62645123,  -8.83192662,\n",
       "         -8.88174895,   7.28690926,  -0.88717753,  -2.49294039,\n",
       "          5.0533716 ,   3.95519321,  10.93100718,   6.30852869,\n",
       "          0.96225495,  -2.0360699 ,  -0.42990161,   6.62791358,\n",
       "         -2.93028146,  -3.98648438,   3.18380489,   4.07676595,\n",
       "         -3.01108347, -13.04111491,  14.02184815,   1.87370142,\n",
       "          5.09632891,  -1.53200201,   0.96203278,   9.37132651,\n",
       "          0.17802444,   2.97559291,  -4.71416187, -11.5034897 ]),\n",
       " array([ -0.63167673,   3.36457094,  -6.20840776,  -5.60909689,\n",
       "          6.97725105,   1.4554047 ,  -2.38251297,  -2.95681491,\n",
       "         -9.38939551,  11.58238588,  -2.8991754 ,   2.79838015,\n",
       "         -4.42926794,  -4.94108185, -13.11721209,   5.78093307,\n",
       "        -13.44151002,  -5.78021017,  13.63406742,  -4.3501894 ,\n",
       "         -3.66442475,  12.40265399,  -1.6269153 ,  -2.14733618,\n",
       "         -9.86452114,   8.12118633,   0.52686844,  -0.20799002,\n",
       "          5.69135301,  -0.95003468,  -2.94953135,  -1.91151207,\n",
       "          1.48530767,   2.28806418,   3.24220498,  -3.10492205,\n",
       "         -9.76635093,   1.30771745,  -4.91666799, -11.8794255 ,\n",
       "          4.39449723,   3.73271645,  -9.90126292,  -2.75287094,\n",
       "         -0.29852291, -18.66142948,  -7.30639693, -16.28157627,\n",
       "          0.44422997,   4.64177213,  -3.57004035,  -9.6730682 ,\n",
       "          2.42040099,  -4.18191369,  10.93186066, -13.84872295,\n",
       "          1.9434078 ,  -1.07999425,   6.45487544, -14.91200995,\n",
       "         -3.42695728,   2.53918324,  -1.99155506,  -0.63693503,\n",
       "         -7.40548598,  16.99782301, -16.08810416,   9.78082403,\n",
       "         -1.06281674,   6.48621099,   9.06870665, -10.50972797,\n",
       "         -9.72935829,   8.15381558,  -2.15814894,  -5.92493175,\n",
       "          2.96659408,   3.39035497,  10.95858277,   2.58534178,\n",
       "          2.87741603,  -1.9864972 ,   0.23762646,   4.16697006,\n",
       "         -2.94079403,   0.29343603,   0.88450796,   5.35033333,\n",
       "          4.53675082, -16.67536309,  19.09213105,   4.7591678 ,\n",
       "          2.59321696,  -3.0070502 ,   3.38718477,  14.07675286,\n",
       "          1.84786953,   1.71076496,  -7.37277814,  -9.79987297])]"
      ]
     },
     "execution_count": 103,
     "metadata": {},
     "output_type": "execute_result"
    }
   ],
   "source": [
    "vocab = w2v.wv.vocab \n",
    "X = []\n",
    "for sentence in sentences:\n",
    "    sentence_tokenized = ViTokenizer.tokenize(sentence)\n",
    "    words = sentence_tokenized.split(\" \")\n",
    "    sentence_vec = np.zeros((100))\n",
    "    for word in words:\n",
    "        if word in vocab:\n",
    "            sentence_vec+=w2v.wv[word]\n",
    "    X.append(sentence_vec)\n",
    "X"
   ]
  },
  {
   "cell_type": "code",
   "execution_count": 104,
   "metadata": {},
   "outputs": [],
   "source": [
    "n_clusters = 5\n",
    "kmeans = KMeans(n_clusters=n_clusters)\n",
    "kmeans = kmeans.fit(X)"
   ]
  },
  {
   "cell_type": "code",
   "execution_count": 105,
   "metadata": {},
   "outputs": [],
   "source": [
    "avg = []\n",
    "for j in range(n_clusters):\n",
    "    idx = np.where(kmeans.labels_ == j)[0]\n",
    "    avg.append(np.mean(idx))\n",
    "closest, _ = pairwise_distances_argmin_min(kmeans.cluster_centers_, X)\n",
    "ordering = sorted(range(n_clusters), key=lambda k: avg[k])\n",
    "summary = ' '.join([sentences[closest[idx]] for idx in ordering])"
   ]
  },
  {
   "cell_type": "code",
   "execution_count": 106,
   "metadata": {},
   "outputs": [
    {
     "data": {
      "text/plain": [
       "'tàu lặn không người lái cũng được triển khai liên tục. cơ quan này cũng áp dụng chiến thuật mới để tìm kiếm các phần thân phi cơ đang nằm dưới đáy biển, đưa tin.nhà chức trách indonesia đang tận dụng tàu thăm dò thuộc một công ty dầu khí, do thủy thủ đoàn đã rất quen thuộc với địa hình đáy biển ở nơi máy bay gặp nạn. nhà chức trách indonesia hôm nay dự kiến điều một tàu lắp cần cẩu tới trục vớt các mảnh xác phi cơ.giám đốc basarnas muhammad syaugi tiết lộ hộp đen được tìm thấy trước đó là thiết bị ghi tham số chuyến bay. lãnh đạo ủy ban an toàn giao thông quốc gia indonesia nhận định phải mất khoảng ba tuần để tải dữ liệu và thêm 6 tháng để phân tích hộp đen.chuyến bay jt610 của hãng lion air rơi xuống biển sáng 29/10, không lâu sau khi cất cánh từ thủ đô jakarta, khiến toàn bộ 189 người trên máy bay thiệt mạng. máy bay gặp nạn là một chiếc boeing 737 max 8 mới được chuyển giao cho lion air hồi tháng 8 năm nay.đại diện lion air cho biết phi công đã thông báo máy bay gặp vấn đề kỹ thuật sau chuyến bay đêm 28/10, nhưng các kỹ sư đã kiểm tra theo đúng quy trình và chiếc boeing 737 được đánh giá là đủ điều kiện an toàn khi cất cánh sáng 29/10.'"
      ]
     },
     "execution_count": 106,
     "metadata": {},
     "output_type": "execute_result"
    }
   ],
   "source": [
    "summary"
   ]
  },
  {
   "cell_type": "code",
   "execution_count": null,
   "metadata": {},
   "outputs": [],
   "source": []
  },
  {
   "cell_type": "code",
   "execution_count": null,
   "metadata": {},
   "outputs": [],
   "source": []
  }
 ],
 "metadata": {
  "kernelspec": {
   "display_name": "Python 3",
   "language": "python",
   "name": "python3"
  },
  "language_info": {
   "codemirror_mode": {
    "name": "ipython",
    "version": 3
   },
   "file_extension": ".py",
   "mimetype": "text/x-python",
   "name": "python",
   "nbconvert_exporter": "python",
   "pygments_lexer": "ipython3",
   "version": "3.6.5"
  }
 },
 "nbformat": 4,
 "nbformat_minor": 2
}
